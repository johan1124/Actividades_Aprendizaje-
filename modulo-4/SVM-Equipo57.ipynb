{
  "nbformat": 4,
  "nbformat_minor": 0,
  "metadata": {
    "colab": {
      "provenance": [],
      "collapsed_sections": [],
      "include_colab_link": true
    },
    "kernelspec": {
      "display_name": "Python 3",
      "name": "python3"
    }
  },
  "cells": [
    {
      "cell_type": "markdown",
      "metadata": {
        "id": "view-in-github",
        "colab_type": "text"
      },
      "source": [
        "<a href=\"https://colab.research.google.com/github/johan1124/Actividades_Aprendizaje-/blob/main/modulo-4/SVM-Equipo57.ipynb\" target=\"_parent\"><img src=\"https://colab.research.google.com/assets/colab-badge.svg\" alt=\"Open In Colab\"/></a>"
      ]
    },
    {
      "cell_type": "markdown",
      "source": [
        "#**Maestría en Inteligencia Artificial Aplicada**\n",
        "##**Curso: Inteligencia Artificial y Aprendizaje Automático**\n",
        "###Tecnológico de Monterrey\n",
        "###Prof Luis Eduardo Falcón Morales\n",
        "\n",
        "## **Adtividad de la Semana 8**\n",
        "###**Máquina de Vector Soporte - Support Vector Machine(SVM)**\n"
      ],
      "metadata": {
        "id": "VFj0sSM06dYa"
      }
    },
    {
      "cell_type": "markdown",
      "source": [
        "**Nombres y matrículas de los integrantes del equipo:**\n",
        "\n",
        "*   \n",
        "*   \n",
        "*   \n",
        "*   \n",
        "*   \n"
      ],
      "metadata": {
        "id": "Qgrvy0RGB9XI"
      }
    },
    {
      "cell_type": "markdown",
      "source": [
        "En cada sección deberás incluir todas las líneas de código necesarias para responder a cada uno de los ejercicios."
      ],
      "metadata": {
        "id": "FrJ2ahMODVj1"
      }
    },
    {
      "cell_type": "code",
      "source": [
        "import pandas as pd\n",
        "import numpy as np\n",
        "\n",
        "#split\n",
        "from sklearn.model_selection import train_test_split\n",
        "\n",
        "#graficos\n",
        "import matplotlib.pyplot as plt \n",
        "import seaborn as sns\n",
        "\n",
        "#transformaciones\n",
        "from sklearn.pipeline import Pipeline\n",
        "from sklearn.impute import SimpleImputer\n",
        "from sklearn.preprocessing import OneHotEncoder  \n",
        "from sklearn.preprocessing import StandardScaler \n",
        "from sklearn.preprocessing import MinMaxScaler\n",
        "from sklearn.preprocessing import PowerTransformer\n",
        "\n",
        "from sklearn.compose import ColumnTransformer\n",
        "\n",
        "from sklearn.dummy import DummyClassifier\n",
        "\n",
        "#metricas\n",
        "from sklearn.metrics import accuracy_score\n",
        "from sklearn.metrics import f1_score\n",
        "from sklearn.metrics import precision_score\n",
        "from sklearn.metrics import recall_score\n",
        "from sklearn.metrics import mean_absolute_percentage_error\n",
        "from sklearn.metrics import make_scorer\n",
        "from imblearn.metrics import geometric_mean_score\n",
        "from sklearn.metrics import confusion_matrix\n",
        "\n",
        "#busqueda\n",
        "from sklearn.model_selection import cross_val_score\n",
        "from sklearn.model_selection import RepeatedKFold\n",
        "from sklearn.model_selection import GridSearchCV\n",
        "from sklearn.model_selection import RandomizedSearchCV\n",
        "from sklearn.model_selection import cross_validate\n",
        "\n",
        "#modelos\n",
        "from sklearn import svm\n",
        "\n",
        "#curvas\n",
        "from sklearn.model_selection import learning_curve, validation_curve\n",
        "from sklearn.metrics import RocCurveDisplay\n",
        "from sklearn.metrics import confusion_matrix, plot_roc_curve, recall_score, roc_auc_score"
      ],
      "metadata": {
        "id": "exXsscs-Dh-2"
      },
      "execution_count": 225,
      "outputs": []
    },
    {
      "cell_type": "markdown",
      "metadata": {
        "id": "X25brD-gQdZM"
      },
      "source": [
        "#**Ejercicio-1.** "
      ]
    },
    {
      "cell_type": "code",
      "source": [
        "#Lectura del archivo\n",
        "#path dataset\n",
        "path = 'https://archive.ics.uci.edu/ml/machine-learning-databases/statlog/australian/australian.dat'\n",
        "\n",
        "#read data set as pandas data frame\n",
        "original = pd.read_csv(path, sep = \" \", header=None)\n",
        "original.columns = [\"A1\", \"A2\", \"A3\", \"A4\", \"A5\", \"A6\", \"A7\", \"A8\", \"A9\", \"A10\", \"A11\", \"A12\", \"A13\", \"A14\", \"A15\"]\n",
        "\n",
        "df = original.copy()\n",
        "\n",
        "df.head()"
      ],
      "metadata": {
        "id": "3nU2GuWYCy6C",
        "colab": {
          "base_uri": "https://localhost:8080/",
          "height": 204
        },
        "outputId": "98908aed-c2ca-491f-a99f-c3a4c3829c84"
      },
      "execution_count": null,
      "outputs": [
        {
          "output_type": "execute_result",
          "data": {
            "text/plain": [
              "   A1     A2     A3  A4  A5  A6     A7  A8  A9  A10  A11  A12  A13   A14  A15\n",
              "0   1  22.08  11.46   2   4   4  1.585   0   0    0    1    2  100  1213    0\n",
              "1   0  22.67   7.00   2   8   4  0.165   0   0    0    0    2  160     1    0\n",
              "2   0  29.58   1.75   1   4   4  1.250   0   0    0    1    2  280     1    0\n",
              "3   0  21.67  11.50   1   5   3  0.000   1   1   11    1    2    0     1    1\n",
              "4   1  20.17   8.17   2   6   4  1.960   1   1   14    0    2   60   159    1"
            ],
            "text/html": [
              "\n",
              "  <div id=\"df-a5f5fd04-1329-456f-8c81-8ee6d1a7797a\">\n",
              "    <div class=\"colab-df-container\">\n",
              "      <div>\n",
              "<style scoped>\n",
              "    .dataframe tbody tr th:only-of-type {\n",
              "        vertical-align: middle;\n",
              "    }\n",
              "\n",
              "    .dataframe tbody tr th {\n",
              "        vertical-align: top;\n",
              "    }\n",
              "\n",
              "    .dataframe thead th {\n",
              "        text-align: right;\n",
              "    }\n",
              "</style>\n",
              "<table border=\"1\" class=\"dataframe\">\n",
              "  <thead>\n",
              "    <tr style=\"text-align: right;\">\n",
              "      <th></th>\n",
              "      <th>A1</th>\n",
              "      <th>A2</th>\n",
              "      <th>A3</th>\n",
              "      <th>A4</th>\n",
              "      <th>A5</th>\n",
              "      <th>A6</th>\n",
              "      <th>A7</th>\n",
              "      <th>A8</th>\n",
              "      <th>A9</th>\n",
              "      <th>A10</th>\n",
              "      <th>A11</th>\n",
              "      <th>A12</th>\n",
              "      <th>A13</th>\n",
              "      <th>A14</th>\n",
              "      <th>A15</th>\n",
              "    </tr>\n",
              "  </thead>\n",
              "  <tbody>\n",
              "    <tr>\n",
              "      <th>0</th>\n",
              "      <td>1</td>\n",
              "      <td>22.08</td>\n",
              "      <td>11.46</td>\n",
              "      <td>2</td>\n",
              "      <td>4</td>\n",
              "      <td>4</td>\n",
              "      <td>1.585</td>\n",
              "      <td>0</td>\n",
              "      <td>0</td>\n",
              "      <td>0</td>\n",
              "      <td>1</td>\n",
              "      <td>2</td>\n",
              "      <td>100</td>\n",
              "      <td>1213</td>\n",
              "      <td>0</td>\n",
              "    </tr>\n",
              "    <tr>\n",
              "      <th>1</th>\n",
              "      <td>0</td>\n",
              "      <td>22.67</td>\n",
              "      <td>7.00</td>\n",
              "      <td>2</td>\n",
              "      <td>8</td>\n",
              "      <td>4</td>\n",
              "      <td>0.165</td>\n",
              "      <td>0</td>\n",
              "      <td>0</td>\n",
              "      <td>0</td>\n",
              "      <td>0</td>\n",
              "      <td>2</td>\n",
              "      <td>160</td>\n",
              "      <td>1</td>\n",
              "      <td>0</td>\n",
              "    </tr>\n",
              "    <tr>\n",
              "      <th>2</th>\n",
              "      <td>0</td>\n",
              "      <td>29.58</td>\n",
              "      <td>1.75</td>\n",
              "      <td>1</td>\n",
              "      <td>4</td>\n",
              "      <td>4</td>\n",
              "      <td>1.250</td>\n",
              "      <td>0</td>\n",
              "      <td>0</td>\n",
              "      <td>0</td>\n",
              "      <td>1</td>\n",
              "      <td>2</td>\n",
              "      <td>280</td>\n",
              "      <td>1</td>\n",
              "      <td>0</td>\n",
              "    </tr>\n",
              "    <tr>\n",
              "      <th>3</th>\n",
              "      <td>0</td>\n",
              "      <td>21.67</td>\n",
              "      <td>11.50</td>\n",
              "      <td>1</td>\n",
              "      <td>5</td>\n",
              "      <td>3</td>\n",
              "      <td>0.000</td>\n",
              "      <td>1</td>\n",
              "      <td>1</td>\n",
              "      <td>11</td>\n",
              "      <td>1</td>\n",
              "      <td>2</td>\n",
              "      <td>0</td>\n",
              "      <td>1</td>\n",
              "      <td>1</td>\n",
              "    </tr>\n",
              "    <tr>\n",
              "      <th>4</th>\n",
              "      <td>1</td>\n",
              "      <td>20.17</td>\n",
              "      <td>8.17</td>\n",
              "      <td>2</td>\n",
              "      <td>6</td>\n",
              "      <td>4</td>\n",
              "      <td>1.960</td>\n",
              "      <td>1</td>\n",
              "      <td>1</td>\n",
              "      <td>14</td>\n",
              "      <td>0</td>\n",
              "      <td>2</td>\n",
              "      <td>60</td>\n",
              "      <td>159</td>\n",
              "      <td>1</td>\n",
              "    </tr>\n",
              "  </tbody>\n",
              "</table>\n",
              "</div>\n",
              "      <button class=\"colab-df-convert\" onclick=\"convertToInteractive('df-a5f5fd04-1329-456f-8c81-8ee6d1a7797a')\"\n",
              "              title=\"Convert this dataframe to an interactive table.\"\n",
              "              style=\"display:none;\">\n",
              "        \n",
              "  <svg xmlns=\"http://www.w3.org/2000/svg\" height=\"24px\"viewBox=\"0 0 24 24\"\n",
              "       width=\"24px\">\n",
              "    <path d=\"M0 0h24v24H0V0z\" fill=\"none\"/>\n",
              "    <path d=\"M18.56 5.44l.94 2.06.94-2.06 2.06-.94-2.06-.94-.94-2.06-.94 2.06-2.06.94zm-11 1L8.5 8.5l.94-2.06 2.06-.94-2.06-.94L8.5 2.5l-.94 2.06-2.06.94zm10 10l.94 2.06.94-2.06 2.06-.94-2.06-.94-.94-2.06-.94 2.06-2.06.94z\"/><path d=\"M17.41 7.96l-1.37-1.37c-.4-.4-.92-.59-1.43-.59-.52 0-1.04.2-1.43.59L10.3 9.45l-7.72 7.72c-.78.78-.78 2.05 0 2.83L4 21.41c.39.39.9.59 1.41.59.51 0 1.02-.2 1.41-.59l7.78-7.78 2.81-2.81c.8-.78.8-2.07 0-2.86zM5.41 20L4 18.59l7.72-7.72 1.47 1.35L5.41 20z\"/>\n",
              "  </svg>\n",
              "      </button>\n",
              "      \n",
              "  <style>\n",
              "    .colab-df-container {\n",
              "      display:flex;\n",
              "      flex-wrap:wrap;\n",
              "      gap: 12px;\n",
              "    }\n",
              "\n",
              "    .colab-df-convert {\n",
              "      background-color: #E8F0FE;\n",
              "      border: none;\n",
              "      border-radius: 50%;\n",
              "      cursor: pointer;\n",
              "      display: none;\n",
              "      fill: #1967D2;\n",
              "      height: 32px;\n",
              "      padding: 0 0 0 0;\n",
              "      width: 32px;\n",
              "    }\n",
              "\n",
              "    .colab-df-convert:hover {\n",
              "      background-color: #E2EBFA;\n",
              "      box-shadow: 0px 1px 2px rgba(60, 64, 67, 0.3), 0px 1px 3px 1px rgba(60, 64, 67, 0.15);\n",
              "      fill: #174EA6;\n",
              "    }\n",
              "\n",
              "    [theme=dark] .colab-df-convert {\n",
              "      background-color: #3B4455;\n",
              "      fill: #D2E3FC;\n",
              "    }\n",
              "\n",
              "    [theme=dark] .colab-df-convert:hover {\n",
              "      background-color: #434B5C;\n",
              "      box-shadow: 0px 1px 3px 1px rgba(0, 0, 0, 0.15);\n",
              "      filter: drop-shadow(0px 1px 2px rgba(0, 0, 0, 0.3));\n",
              "      fill: #FFFFFF;\n",
              "    }\n",
              "  </style>\n",
              "\n",
              "      <script>\n",
              "        const buttonEl =\n",
              "          document.querySelector('#df-a5f5fd04-1329-456f-8c81-8ee6d1a7797a button.colab-df-convert');\n",
              "        buttonEl.style.display =\n",
              "          google.colab.kernel.accessAllowed ? 'block' : 'none';\n",
              "\n",
              "        async function convertToInteractive(key) {\n",
              "          const element = document.querySelector('#df-a5f5fd04-1329-456f-8c81-8ee6d1a7797a');\n",
              "          const dataTable =\n",
              "            await google.colab.kernel.invokeFunction('convertToInteractive',\n",
              "                                                     [key], {});\n",
              "          if (!dataTable) return;\n",
              "\n",
              "          const docLinkHtml = 'Like what you see? Visit the ' +\n",
              "            '<a target=\"_blank\" href=https://colab.research.google.com/notebooks/data_table.ipynb>data table notebook</a>'\n",
              "            + ' to learn more about interactive tables.';\n",
              "          element.innerHTML = '';\n",
              "          dataTable['output_type'] = 'display_data';\n",
              "          await google.colab.output.renderOutput(dataTable, element);\n",
              "          const docLink = document.createElement('div');\n",
              "          docLink.innerHTML = docLinkHtml;\n",
              "          element.appendChild(docLink);\n",
              "        }\n",
              "      </script>\n",
              "    </div>\n",
              "  </div>\n",
              "  "
            ]
          },
          "metadata": {},
          "execution_count": 137
        }
      ]
    },
    {
      "cell_type": "code",
      "source": [
        "X_train, X_test, y_train, y_test = train_test_split(df.drop(['A15'], axis= 1), df['A15'], test_size=.15, random_state=0)"
      ],
      "metadata": {
        "id": "fLt3KoOGTxI2"
      },
      "execution_count": null,
      "outputs": []
    },
    {
      "cell_type": "code",
      "source": [
        "y_train.value_counts()"
      ],
      "metadata": {
        "colab": {
          "base_uri": "https://localhost:8080/"
        },
        "id": "CmYIlIhHVupj",
        "outputId": "d6662feb-f756-4323-deaa-5eb48b9a0477"
      },
      "execution_count": null,
      "outputs": [
        {
          "output_type": "execute_result",
          "data": {
            "text/plain": [
              "0    325\n",
              "1    261\n",
              "Name: A15, dtype: int64"
            ]
          },
          "metadata": {},
          "execution_count": 139
        }
      ]
    },
    {
      "cell_type": "code",
      "source": [
        "y_test.value_counts()"
      ],
      "metadata": {
        "colab": {
          "base_uri": "https://localhost:8080/"
        },
        "id": "05d3ow4EWfDn",
        "outputId": "e6d74724-df25-4347-960b-9b3b55b75997"
      },
      "execution_count": null,
      "outputs": [
        {
          "output_type": "execute_result",
          "data": {
            "text/plain": [
              "0    58\n",
              "1    46\n",
              "Name: A15, dtype: int64"
            ]
          },
          "metadata": {},
          "execution_count": 140
        }
      ]
    },
    {
      "cell_type": "code",
      "source": [
        "261/(325+261)"
      ],
      "metadata": {
        "colab": {
          "base_uri": "https://localhost:8080/"
        },
        "id": "dddB6ONvWx9q",
        "outputId": "7644fcc2-f5ea-43b9-d963-f65cbe99cc2f"
      },
      "execution_count": null,
      "outputs": [
        {
          "output_type": "execute_result",
          "data": {
            "text/plain": [
              "0.4453924914675768"
            ]
          },
          "metadata": {},
          "execution_count": 141
        }
      ]
    },
    {
      "cell_type": "code",
      "source": [
        "46/(58+46)"
      ],
      "metadata": {
        "colab": {
          "base_uri": "https://localhost:8080/"
        },
        "id": "Zf_-FVrDW2BD",
        "outputId": "ed96b743-19f7-47fc-9b52-d0fae20c6f25"
      },
      "execution_count": null,
      "outputs": [
        {
          "output_type": "execute_result",
          "data": {
            "text/plain": [
              "0.4423076923076923"
            ]
          },
          "metadata": {},
          "execution_count": 142
        }
      ]
    },
    {
      "cell_type": "markdown",
      "source": [
        "#**Ejercicio-2.**"
      ],
      "metadata": {
        "id": "xZhr2hkECzVv"
      }
    },
    {
      "cell_type": "code",
      "source": [
        "#transformación de los datos "
      ],
      "metadata": {
        "id": "kGfAoOPkC1PP"
      },
      "execution_count": null,
      "outputs": []
    },
    {
      "cell_type": "code",
      "source": [
        "df.isnull().any()"
      ],
      "metadata": {
        "id": "GOydw5OGC1MJ",
        "colab": {
          "base_uri": "https://localhost:8080/"
        },
        "outputId": "1bab2840-75e2-4e78-b449-b47e57ab6961"
      },
      "execution_count": null,
      "outputs": [
        {
          "output_type": "execute_result",
          "data": {
            "text/plain": [
              "A1     False\n",
              "A2     False\n",
              "A3     False\n",
              "A4     False\n",
              "A5     False\n",
              "A6     False\n",
              "A7     False\n",
              "A8     False\n",
              "A9     False\n",
              "A10    False\n",
              "A11    False\n",
              "A12    False\n",
              "A13    False\n",
              "A14    False\n",
              "A15    False\n",
              "dtype: bool"
            ]
          },
          "metadata": {},
          "execution_count": 144
        }
      ]
    },
    {
      "cell_type": "code",
      "source": [
        "categorical_columns = ['A1','A4','A5','A6','A8','A9','A11','A12']\n",
        "numerical_columns = ['A2','A3','A7','A10','A13','A14']"
      ],
      "metadata": {
        "id": "9ubB9Dj3ankc"
      },
      "execution_count": null,
      "outputs": []
    },
    {
      "cell_type": "code",
      "source": [
        "fig, axes = plt.subplots(2, 3, figsize = (12,8))\n",
        "\n",
        "for i, var in enumerate(numerical_columns):\n",
        "  plt.subplot(2,3,i+1)\n",
        "  plt.hist(X_train[var])"
      ],
      "metadata": {
        "colab": {
          "base_uri": "https://localhost:8080/",
          "height": 483
        },
        "id": "IqnkGlulbhpJ",
        "outputId": "cd5c8cff-427b-4ca7-dc57-9e59224378b2"
      },
      "execution_count": null,
      "outputs": [
        {
          "output_type": "display_data",
          "data": {
            "text/plain": [
              "<Figure size 864x576 with 6 Axes>"
            ],
            "image/png": "[encoded data removed]"
          },
          "metadata": {
            "needs_background": "light"
          }
        }
      ]
    },
    {
      "cell_type": "code",
      "source": [
        "#Pipe Categoricas\n",
        "categorical_pipeline = Pipeline(steps=[('imputer', SimpleImputer(strategy='most_frequent')),\n",
        "                                       ('encoder', OneHotEncoder(handle_unknown=\"ignore\", sparse = False))])\n",
        "#Pipe Numericas\n",
        "numerical_pipeline = Pipeline(steps=[('imputer', SimpleImputer(strategy='mean')),\n",
        "                                     ('scaler_num', PowerTransformer(method = 'yeo-johnson')),\n",
        "                                     ('scaler', MinMaxScaler((1,2)))])"
      ],
      "metadata": {
        "id": "fBRnkkRuXyWL"
      },
      "execution_count": null,
      "outputs": []
    },
    {
      "cell_type": "code",
      "source": [
        "#Transformers\n",
        "colum_transformer = ColumnTransformer(transformers=[('numerical_transformer', numerical_pipeline, numerical_columns),\n",
        "                                                    ('categorical_transformer',categorical_pipeline, categorical_columns)],\n",
        "                                      remainder='passthrough')\n",
        "\n",
        "X_t_fit = colum_transformer.fit(X_train)\n",
        "\n",
        "X_train_t = X_t_fit.transform(X_train)\n",
        "X_test_t = X_t_fit.transform(X_test)"
      ],
      "metadata": {
        "id": "KtL8ILhieThY"
      },
      "execution_count": null,
      "outputs": []
    },
    {
      "cell_type": "code",
      "source": [
        "fig, axes = plt.subplots(2, 3, figsize = (12,8))\n",
        "\n",
        "for i, var in enumerate(numerical_columns):\n",
        "  plt.subplot(2,3,i+1)\n",
        "  plt.hist(X_train_t[:,i])"
      ],
      "metadata": {
        "colab": {
          "base_uri": "https://localhost:8080/",
          "height": 483
        },
        "id": "lYfVg6WVkXLX",
        "outputId": "347de988-96dc-4252-fca2-7e5b176379ed"
      },
      "execution_count": null,
      "outputs": [
        {
          "output_type": "display_data",
          "data": {
            "text/plain": [
              "<Figure size 864x576 with 6 Axes>"
            ],
            "image/png": "[encoded data removed]"
          },
          "metadata": {
            "needs_background": "light"
          }
        }
      ]
    },
    {
      "cell_type": "markdown",
      "source": [
        "#**Ejercicio-3.**"
      ],
      "metadata": {
        "id": "NCunuooTC2W3"
      }
    },
    {
      "cell_type": "code",
      "source": [
        "X_train_dummy, X_valid_dummy, y_train_dummy, y_valid_dummy = train_test_split(X_train_t, y_train, test_size = 100, random_state=0)\n",
        "dummy_regr = DummyClassifier(strategy=\"stratified\")\n",
        "\n",
        "dummy_model = dummy_regr.fit(X_train_dummy,y_train_dummy)\n",
        "\n",
        "y_pred_train = dummy_model.predict(X_train_dummy)\n",
        "y_pred_valid = dummy_model.predict(X_valid_dummy)\n",
        "#f1_score(y_true, y_pred, average=None)\n",
        "#precision_score(y_true, y_pred, average=None)\n",
        "#recall_score(y_true, y_pred, average=None)\n",
        "\n",
        "#accuracy_score(y_true, y_pred)\n",
        "#print('Accuracy_score Entrenamiento: ' + str(accuracy_score(y_train_dummy,y_pred_train)) +\n",
        "#      '\\Accuracy_score Validación: ' + str(accuracy_score(y_valid_dummy,y_pred_valid))\n",
        "#    )\n",
        "\n",
        "print('Accuracy_score Entrenamiento: ' + str(accuracy_score(y_train_dummy,y_pred_train)) +\n",
        "      '\\Accuracy_score Validación: ' + str(accuracy_score(y_valid_dummy,y_pred_valid)) +\n",
        "      '\\nF1_score Entrenamineto: ' + str(f1_score(y_train_dummy,y_pred_train)) +\n",
        "      '\\nF1_score Validación: ' + str(f1_score(y_valid_dummy,y_pred_valid)) +\n",
        "      '\\nPrecision_score Entrenamineto: ' + str(precision_score(y_train_dummy,y_pred_train)) +\n",
        "      '\\nPrecision_score Validación: ' + str(precision_score(y_valid_dummy,y_pred_valid))+\n",
        "      '\\nRecall_score Entrenamineto: ' + str(recall_score(y_train_dummy,y_pred_train)) +\n",
        "      '\\nRecall_score Validación: ' + str(recall_score(y_valid_dummy,y_pred_valid))\n",
        "    )"
      ],
      "metadata": {
        "id": "YXlcSWA-C4Dj",
        "colab": {
          "base_uri": "https://localhost:8080/"
        },
        "outputId": "f7c2ff08-560f-4cb6-d86b-74a149deaa31"
      },
      "execution_count": null,
      "outputs": [
        {
          "output_type": "stream",
          "name": "stdout",
          "text": [
            "Accuracy_score Entrenamiento: 0.5\\Accuracy_score Validación: 0.52\n",
            "F1_score Entrenamineto: 0.45393258426966293\n",
            "F1_score Validación: 0.4666666666666667\n",
            "Precision_score Entrenamineto: 0.4488888888888889\n",
            "Precision_score Validación: 0.42857142857142855\n",
            "Recall_score Entrenamineto: 0.4590909090909091\n",
            "Recall_score Validación: 0.5121951219512195\n"
          ]
        }
      ]
    },
    {
      "cell_type": "markdown",
      "source": [
        "#**Ejercicio-4.**"
      ],
      "metadata": {
        "id": "chqk9jIDC5Pq"
      }
    },
    {
      "cell_type": "code",
      "source": [
        "_metrics = ['accuracy', 'f1', 'precision', 'recall']"
      ],
      "metadata": {
        "id": "dEJCG-xazDOK"
      },
      "execution_count": null,
      "outputs": []
    },
    {
      "cell_type": "code",
      "source": [
        "modelo_svm_gs = svm.SVC()\n",
        "kfold = RepeatedKFold(n_splits=5, n_repeats=3)\n",
        "\n",
        "Parametros = {'C': [1.0, 0.5,0.1, 5.0,10.0],\n",
        "              'kernel': ['linear', 'poly', 'rbf', 'sigmoid'],\n",
        "              'gamma': ['scale', 'auto']\n",
        "              }\n",
        "\n",
        "svm_gridFinal = GridSearchCV(estimator=modelo_svm_gs, param_grid = Parametros, scoring = _metrics, refit = 'accuracy', cv = kfold, n_jobs=-1)\n",
        "                            \n",
        "svm_gridFinal.fit(X_train_t, np.ravel(y_train))\n",
        "\n",
        "svm_best_score = svm_gridFinal.best_score_\n",
        "svm_best_param = svm_gridFinal.best_params_\n",
        "print(\"El mejor score es:\", svm_best_score)\n",
        "print(\"El mejor parametro es: \\n\", svm_best_param)"
      ],
      "metadata": {
        "id": "7KXnlNzAC69Y",
        "colab": {
          "base_uri": "https://localhost:8080/"
        },
        "outputId": "5b665580-b7c6-4520-9655-836fdde6aec3"
      },
      "execution_count": null,
      "outputs": [
        {
          "output_type": "stream",
          "name": "stdout",
          "text": [
            "El mejor score es: 0.8674247911536049\n",
            "El mejor parametro es: \n",
            " {'C': 0.1, 'gamma': 'auto', 'kernel': 'rbf'}\n"
          ]
        }
      ]
    },
    {
      "cell_type": "markdown",
      "source": [
        "#**Ejercicio-5.**"
      ],
      "metadata": {
        "id": "Wo43oLmRNU1v"
      }
    },
    {
      "cell_type": "code",
      "source": [
        "modelo_svm_F = svm.SVC(probability = True)\n",
        "modelo_svm_F.set_params(**svm_best_param)\n",
        "\n",
        "kfold = RepeatedKFold(n_splits=5, n_repeats=3)\n",
        "\n",
        "scores = cross_validate(\n",
        "                        estimator = modelo_svm_F,\n",
        "                        X = X_train_t,\n",
        "                        y = y_train.ravel(),\n",
        "                        scoring=_metrics,\n",
        "                        cv = kfold,\n",
        "                        return_train_score=True\n",
        "                        )"
      ],
      "metadata": {
        "id": "AtmcKuDy8uVl"
      },
      "execution_count": null,
      "outputs": []
    },
    {
      "cell_type": "code",
      "source": [
        "train_rr=[]\n",
        "val_rr=[]\n",
        "for metric in _metrics:\n",
        "\n",
        "  train_rr.append(scores['train_' + metric])\n",
        "  val_rr.append(scores['test_' + metric])\n"
      ],
      "metadata": {
        "id": "aygN-YhTEjn2"
      },
      "execution_count": null,
      "outputs": []
    },
    {
      "cell_type": "code",
      "source": [
        "plt.boxplot(train_rr, labels=_metrics, showmeans=True, showfliers = False)\n",
        "plt.title('Train Scores')\n",
        "plt.show()"
      ],
      "metadata": {
        "colab": {
          "base_uri": "https://localhost:8080/",
          "height": 281
        },
        "id": "lsxv-q2NFhjm",
        "outputId": "b6851aa2-4db2-4322-857e-9df4cd9a8424"
      },
      "execution_count": null,
      "outputs": [
        {
          "output_type": "display_data",
          "data": {
            "text/plain": [
              "<Figure size 432x288 with 1 Axes>"
            ],
            "image/png": "[encoded data removed]"
          },
          "metadata": {
            "needs_background": "light"
          }
        }
      ]
    },
    {
      "cell_type": "code",
      "source": [
        "plt.boxplot(val_rr, labels=_metrics, showmeans=True, showfliers = False)\n",
        "plt.title('Validation Scores')\n",
        "plt.show()"
      ],
      "metadata": {
        "colab": {
          "base_uri": "https://localhost:8080/",
          "height": 281
        },
        "id": "aetFReG3GTur",
        "outputId": "9f59bac8-8ba7-48ea-bd63-8d76eec17d78"
      },
      "execution_count": null,
      "outputs": [
        {
          "output_type": "display_data",
          "data": {
            "text/plain": [
              "<Figure size 432x288 with 1 Axes>"
            ],
            "image/png": "[encoded data removed]"
          },
          "metadata": {
            "needs_background": "light"
          }
        }
      ]
    },
    {
      "cell_type": "markdown",
      "source": [
        "#**Ejercicio-6.**"
      ],
      "metadata": {
        "id": "W2S7LI0NC9wE"
      }
    },
    {
      "cell_type": "code",
      "source": [
        "None"
      ],
      "metadata": {
        "id": "x6uBleJUC_AU"
      },
      "execution_count": null,
      "outputs": []
    },
    {
      "cell_type": "code",
      "source": [
        "delta_train_sz = np.linspace(0.1, 1.0, 20)\n",
        "\n",
        "cvLC = RepeatedKFold(n_splits=5, n_repeats=3)\n",
        "\n",
        "train_sizes, train_scores, valid_scores = learning_curve(estimator=modelo_svm_F, \n",
        "                                                        X=X_train_t, \n",
        "                                                        y=np.ravel(y_train),\n",
        "                                                        cv=cvLC, \n",
        "                                                        train_sizes=delta_train_sz,\n",
        "                                                        scoring='accuracy')\n",
        "\n",
        "\n",
        "\n",
        "# Obtengamos la gráfica de las curvas de aprendizaje \n",
        "# cuando se incrementa el tamaño de la muestra:\n",
        "\n",
        "train_mean = np.mean(train_scores, axis=1)\n",
        "train_std = np.std(train_scores, axis=1)\n",
        "valid_mean = np.mean(valid_scores, axis=1)\n",
        "valid_std = np.std(valid_scores, axis=1)\n",
        "\n",
        "plt.plot(train_sizes, train_mean, color='blue', marker='o', markersize=5, label='Training')\n",
        "\n",
        "plt.plot(train_sizes, valid_mean, color='red', marker='o', markersize=5, label='Validation')\n",
        "\n",
        "plt.title('Función learning_curve()')\n",
        "plt.xlabel('Tamaño del conjunto de entrenamiento')\n",
        "plt.ylabel('Exactitud (accuracy)')\n",
        "plt.grid()\n",
        "plt.legend(loc='lower right')\n",
        "plt.show()"
      ],
      "metadata": {
        "id": "n0P_AcyjC_Dh",
        "colab": {
          "base_uri": "https://localhost:8080/",
          "height": 295
        },
        "outputId": "665fc2d5-08d3-457b-9ce5-aadc006cf3e6"
      },
      "execution_count": null,
      "outputs": [
        {
          "output_type": "display_data",
          "data": {
            "text/plain": [
              "<Figure size 432x288 with 1 Axes>"
            ],
            "image/png": "[encoded data removed]"
          },
          "metadata": {
            "needs_background": "light"
          }
        }
      ]
    },
    {
      "cell_type": "markdown",
      "source": [
        "#**Ejercicio-7.**"
      ],
      "metadata": {
        "id": "iCNGx4TQ8CFI"
      }
    },
    {
      "cell_type": "code",
      "source": [
        "modelo_svm_F.fit(X_train_t, y_train)\n",
        "RocCurveDisplay.from_estimator(modelo_svm_F, X_test_t, y_test)\n",
        "plt.plot([0,0,1,0],[0,1,1,0], 'y--')"
      ],
      "metadata": {
        "id": "ewvwUcJX78y1",
        "colab": {
          "base_uri": "https://localhost:8080/",
          "height": 297
        },
        "outputId": "5893bc31-a761-4e0a-e0a4-14b71e7471da"
      },
      "execution_count": null,
      "outputs": [
        {
          "output_type": "execute_result",
          "data": {
            "text/plain": [
              "[<matplotlib.lines.Line2D at 0x7fcbc572f450>]"
            ]
          },
          "metadata": {},
          "execution_count": 183
        },
        {
          "output_type": "display_data",
          "data": {
            "text/plain": [
              "<Figure size 432x288 with 1 Axes>"
            ],
            "image/png": "[encoded data removed]"
          },
          "metadata": {
            "needs_background": "light"
          }
        }
      ]
    },
    {
      "cell_type": "code",
      "source": [],
      "metadata": {
        "id": "F1aW0dQX8BLL"
      },
      "execution_count": null,
      "outputs": []
    },
    {
      "cell_type": "markdown",
      "source": [
        "#**Ejercicio-8.**"
      ],
      "metadata": {
        "id": "tzQn5NR78GFg"
      }
    },
    {
      "cell_type": "code",
      "source": [
        "f1_scores = []\n",
        "proba = modelo_svm_F.predict_proba(X_test_t)[:,1]\n",
        "\n",
        "for i in np.linspace(0.01,1,100):\n",
        "\n",
        "  y_pred = proba > i\n",
        "  y_pred = np.array(y_pred, dtype = int)\n",
        "\n",
        "  f1_scores.append(f1_score(y_test, y_pred))\n",
        "\n",
        "plt.plot(np.linspace(0.01,1,100), f1_scores)\n",
        "plt.axhline(y=np.max(f1_scores), color='r', linestyle='--')\n",
        "plt.xlabel('Umbral')\n",
        "plt.ylabel('F1 Score')\n"
      ],
      "metadata": {
        "id": "DgvYD_dBWoDr",
        "colab": {
          "base_uri": "https://localhost:8080/",
          "height": 297
        },
        "outputId": "d5f5a3bf-1f5f-4839-c4fc-bb92579b8d1a"
      },
      "execution_count": null,
      "outputs": [
        {
          "output_type": "execute_result",
          "data": {
            "text/plain": [
              "Text(0, 0.5, 'F1 Score')"
            ]
          },
          "metadata": {},
          "execution_count": 217
        },
        {
          "output_type": "display_data",
          "data": {
            "text/plain": [
              "<Figure size 432x288 with 1 Axes>"
            ],
            "image/png": "[encoded data removed]"
          },
          "metadata": {
            "needs_background": "light"
          }
        }
      ]
    },
    {
      "cell_type": "code",
      "source": [
        "np.max(f1_scores)"
      ],
      "metadata": {
        "id": "2W1QDMtlc001",
        "outputId": "0998963e-ab8a-45d1-e0cf-62390a8cd1cd",
        "colab": {
          "base_uri": "https://localhost:8080/"
        }
      },
      "execution_count": null,
      "outputs": [
        {
          "output_type": "execute_result",
          "data": {
            "text/plain": [
              "0.8695652173913043"
            ]
          },
          "metadata": {},
          "execution_count": 212
        }
      ]
    },
    {
      "cell_type": "code",
      "source": [
        "np.linspace(0.01,1,100)[f1_scores.index(np.max(f1_scores))]"
      ],
      "metadata": {
        "colab": {
          "base_uri": "https://localhost:8080/"
        },
        "id": "8591PfKWb0r4",
        "outputId": "af0436db-ac52-4e42-fbcf-dedb11997e4f"
      },
      "execution_count": null,
      "outputs": [
        {
          "output_type": "execute_result",
          "data": {
            "text/plain": [
              "0.36000000000000004"
            ]
          },
          "metadata": {},
          "execution_count": 207
        }
      ]
    },
    {
      "cell_type": "markdown",
      "source": [
        "#**Ejercicio-9.**"
      ],
      "metadata": {
        "id": "mASNrZWs8JTh"
      }
    },
    {
      "cell_type": "code",
      "source": [
        "gmean_scores = []\n",
        "proba = modelo_svm_F.predict_proba(X_test_t)[:,1]\n",
        "for i in np.linspace(0.01,1,100):\n",
        "\n",
        "  y_pred = proba > i\n",
        "  y_pred = np.array(y_pred, dtype = int)\n",
        "\n",
        "  gmean_scores.append(geometric_mean_score(y_test, y_pred))\n",
        "\n",
        "plt.plot(np.linspace(0.01,1,100), gmean_scores)\n",
        "plt.axhline(y=np.max(gmean_scores), color='r', linestyle='--')\n",
        "plt.xlabel('Umbral')\n",
        "plt.ylabel('G-mean Score')\n"
      ],
      "metadata": {
        "id": "X6HJP9hb8LCp",
        "colab": {
          "base_uri": "https://localhost:8080/",
          "height": 297
        },
        "outputId": "d70815c5-9495-4853-8e2f-cdfd394c080a"
      },
      "execution_count": 223,
      "outputs": [
        {
          "output_type": "execute_result",
          "data": {
            "text/plain": [
              "Text(0, 0.5, 'G-mean Score')"
            ]
          },
          "metadata": {},
          "execution_count": 223
        },
        {
          "output_type": "display_data",
          "data": {
            "text/plain": [
              "<Figure size 432x288 with 1 Axes>"
            ],
            "image/png": "[encoded data removed]"
          },
          "metadata": {
            "needs_background": "light"
          }
        }
      ]
    },
    {
      "cell_type": "code",
      "source": [
        "np.max(gmean_scores)"
      ],
      "metadata": {
        "id": "Xr6oe1VF8K_A",
        "colab": {
          "base_uri": "https://localhost:8080/"
        },
        "outputId": "04c4b08d-4d6a-413e-af40-53ffb2ed9598"
      },
      "execution_count": 221,
      "outputs": [
        {
          "output_type": "execute_result",
          "data": {
            "text/plain": [
              "0.8829553753744006"
            ]
          },
          "metadata": {},
          "execution_count": 221
        }
      ]
    },
    {
      "cell_type": "code",
      "source": [
        "np.linspace(0.01,1,100)[gmean_scores.index(np.max(gmean_scores))]"
      ],
      "metadata": {
        "colab": {
          "base_uri": "https://localhost:8080/"
        },
        "id": "ELqwSiimimN-",
        "outputId": "6722dd7c-db88-44c5-f9db-91c845c6788e"
      },
      "execution_count": 222,
      "outputs": [
        {
          "output_type": "execute_result",
          "data": {
            "text/plain": [
              "0.36000000000000004"
            ]
          },
          "metadata": {},
          "execution_count": 222
        }
      ]
    },
    {
      "cell_type": "code",
      "source": [
        "def mi_gmean(yreal, ypred):\n",
        "\n",
        "     cm = confusion_matrix(yreal, ypred)\n",
        "     recall = cm[1][1]/(cm[1][1]+cm[1][0])\n",
        "     specificity = cm[0][0]/(cm[0][0]+cm[0][1])\n",
        "\n",
        "     gmean = (recall*specificity)**(1/2)\n",
        "\n",
        "     return gmean"
      ],
      "metadata": {
        "id": "IsMEc66RjWOs"
      },
      "execution_count": 226,
      "outputs": []
    },
    {
      "cell_type": "code",
      "source": [
        "gmean_scores = []\n",
        "proba = modelo_svm_F.predict_proba(X_test_t)[:,1]\n",
        "for i in np.linspace(0.01,1,100):\n",
        "\n",
        "  y_pred = proba > i\n",
        "  y_pred = np.array(y_pred, dtype = int)\n",
        "\n",
        "  gmean_scores.append(mi_gmean(y_test, y_pred))\n",
        "\n",
        "plt.plot(np.linspace(0.01,1,100), gmean_scores)\n",
        "plt.axhline(y=np.max(gmean_scores), color='r', linestyle='--')\n",
        "plt.xlabel('Umbral')\n",
        "plt.ylabel('G-mean Score')"
      ],
      "metadata": {
        "colab": {
          "base_uri": "https://localhost:8080/",
          "height": 297
        },
        "id": "XkC6QlBClBiB",
        "outputId": "009e514d-afbb-4155-cf2b-da4505c92311"
      },
      "execution_count": 227,
      "outputs": [
        {
          "output_type": "execute_result",
          "data": {
            "text/plain": [
              "Text(0, 0.5, 'G-mean Score')"
            ]
          },
          "metadata": {},
          "execution_count": 227
        },
        {
          "output_type": "display_data",
          "data": {
            "text/plain": [
              "<Figure size 432x288 with 1 Axes>"
            ],
            "image/png": "[encoded data removed]"
          },
          "metadata": {
            "needs_background": "light"
          }
        }
      ]
    },
    {
      "cell_type": "markdown",
      "source": [
        "#**Ejercicio-10.**"
      ],
      "metadata": {
        "id": "VUIcDshs8MzG"
      }
    },
    {
      "cell_type": "code",
      "source": [
        "None"
      ],
      "metadata": {
        "id": "0lKNJNIt8N88"
      },
      "execution_count": null,
      "outputs": []
    },
    {
      "cell_type": "code",
      "source": [],
      "metadata": {
        "id": "Inkq5YQe8PED"
      },
      "execution_count": null,
      "outputs": []
    },
    {
      "cell_type": "markdown",
      "source": [
        "###**Fin de la Actividad de la semana 8.**"
      ],
      "metadata": {
        "id": "7ql_r2G-DB_m"
      }
    }
  ]
}